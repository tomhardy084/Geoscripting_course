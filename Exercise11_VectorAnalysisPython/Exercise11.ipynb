{
 "cells": [
  {
   "cell_type": "code",
   "execution_count": 1,
   "metadata": {},
   "outputs": [],
   "source": [
    "## exercise 11\n",
    "## Team Chantalle_Tom\n",
    "## date 22-01-2018"
   ]
  },
  {
   "cell_type": "code",
   "execution_count": 2,
   "metadata": {},
   "outputs": [],
   "source": [
    "## set-up\n",
    "from osgeo import ogr\n",
    "from osgeo import osr\n",
    "import os\n",
    "import folium\n",
    "import math\n"
   ]
  },
  {
   "cell_type": "code",
   "execution_count": 3,
   "metadata": {},
   "outputs": [],
   "source": [
    "## create directories\n",
    "try:\n",
    "    os.stat(\"data\")\n",
    "except:\n",
    "    os.mkdir(\"data\") \n",
    "\n",
    "try:\n",
    "    os.stat(\"output\")\n",
    "except:\n",
    "    os.mkdir(\"output\") "
   ]
  },
  {
   "cell_type": "code",
   "execution_count": 4,
   "metadata": {},
   "outputs": [],
   "source": [
    "## create two points from google maps (taken from the R vector tutorial)\n",
    "wkt1 = \"POINT (5.666473 51.985103)\"\n",
    "wkt2 = \"POINT (5.679490 51.978954)\""
   ]
  },
  {
   "cell_type": "code",
   "execution_count": 5,
   "metadata": {
    "scrolled": true
   },
   "outputs": [
    {
     "data": {
      "text/plain": [
       "0"
      ]
     },
     "execution_count": 5,
     "metadata": {},
     "output_type": "execute_result"
    }
   ],
   "source": [
    "## transform the projection to RD_New\n",
    "source = osr.SpatialReference()\n",
    "source.ImportFromEPSG(4326)\n",
    "\n",
    "target = osr.SpatialReference()\n",
    "target.ImportFromEPSG(28992)\n",
    "\n",
    "transform = osr.CoordinateTransformation(source,target)\n",
    "\n",
    "point1 = ogr.CreateGeometryFromWkt(wkt1)\n",
    "point2 = ogr.CreateGeometryFromWkt(wkt2)\n",
    "\n",
    "point1.Transform(transform)\n",
    "point2.Transform(transform)"
   ]
  },
  {
   "cell_type": "code",
   "execution_count": 6,
   "metadata": {},
   "outputs": [
    {
     "name": "stdout",
     "output_type": "stream",
     "text": [
      "True\n",
      "True\n"
     ]
    }
   ],
   "source": [
    "## create the buffer\n",
    "buffer1 = point1.Buffer(100,10)\n",
    "buffer2 = point2.Buffer(100,10)\n",
    "print (buffer1.Intersects(point1))\n",
    "print (buffer2.Intersects(point2))"
   ]
  },
  {
   "cell_type": "code",
   "execution_count": 7,
   "metadata": {},
   "outputs": [],
   "source": [
    "## create two shapefiles (for the buffer and the points)\n",
    "driverName = \"ESRI Shapefile\"\n",
    "drv = ogr.GetDriverByName( driverName )\n",
    "\n",
    "spatialReference = osr.SpatialReference()\n",
    "spatialReference.ImportFromEPSG(28992)\n",
    "\n",
    "## create the shapefile for points\n",
    "fn_points = \"./data/points.shp\"\n",
    "lyn_points = \"points\"\n",
    "ds_points = drv.CreateDataSource(fn_points)\n",
    "layer_points = ds_points.CreateLayer(lyn_points, spatialReference, ogr.wkbPoint)\n",
    "\n",
    "## create the shapefile for buffer\n",
    "fn_buffer = \"./data/buffer.shp\"\n",
    "lyn_buffer = \"buffer\"\n",
    "ds_buffer = drv.CreateDataSource(fn_buffer)\n",
    "layer_buffer = ds_buffer.CreateLayer(lyn_buffer, spatialReference, ogr.wkbPolygon)"
   ]
  },
  {
   "cell_type": "code",
   "execution_count": 8,
   "metadata": {},
   "outputs": [
    {
     "name": "stdout",
     "output_type": "stream",
     "text": [
      "(174184.37342619858, 175081.3233924724, 443434.6142300105, 444115.21165056876)\n",
      "(174084.37342619858, 175181.3233924724, 443334.6142300105, 444215.21165056876)\n"
     ]
    }
   ],
   "source": [
    "## layer definition\n",
    "layerDefinition1 = layer_points.GetLayerDefn()\n",
    "layerDefinition2 = layer_buffer.GetLayerDefn()\n",
    "\n",
    "## feature creation\n",
    "feature1 = ogr.Feature(layerDefinition1)\n",
    "feature2 = ogr.Feature(layerDefinition1)\n",
    "feature3 = ogr.Feature(layerDefinition2)\n",
    "feature4 = ogr.Feature(layerDefinition2)\n",
    "\n",
    "feature1.SetGeometry(point1)\n",
    "feature2.SetGeometry(point2)\n",
    "feature3.SetGeometry(buffer1)\n",
    "feature4.SetGeometry(buffer2)\n",
    "\n",
    "layer_points.CreateFeature(feature1)\n",
    "layer_points.CreateFeature(feature2)\n",
    "layer_buffer.CreateFeature(feature3)\n",
    "layer_buffer.CreateFeature(feature4)\n",
    "\n",
    "print(layer_points.GetExtent())\n",
    "print(layer_buffer.GetExtent())"
   ]
  },
  {
   "cell_type": "code",
   "execution_count": 9,
   "metadata": {},
   "outputs": [],
   "source": [
    "## close the connection\n",
    "ds_points.Destroy()\n",
    "ds_buffer.Destroy()"
   ]
  },
  {
   "cell_type": "code",
   "execution_count": 10,
   "metadata": {},
   "outputs": [],
   "source": [
    "## change shapefile extension to Geojson\n",
    "!ogr2ogr -f GeoJSON -t_srs crs:84 data/points.geojson data/points.shp\n",
    "!ogr2ogr -f GeoJSON -t_srs crs:84 data/buffer.geojson data/buffer.shp"
   ]
  },
  {
   "cell_type": "code",
   "execution_count": 11,
   "metadata": {},
   "outputs": [],
   "source": [
    "## create a html with leaflet\n",
    "pointsGeo = os.path.join(\"data/points.geojson\")\n",
    "bufferGeo = os.path.join(\"data/buffer.geojson\")\n",
    "map_total = folium.Map(location=[51.983095, 5.671786],tiles='OpenStreetMap', zoom_start=15)\n",
    "map_total.choropleth(geo_data = pointsGeo)\n",
    "map_total.choropleth(geo_data = bufferGeo)\n",
    "map_total.save('output/points_buffer.html')"
   ]
  },
  {
   "cell_type": "code",
   "execution_count": 12,
   "metadata": {},
   "outputs": [
    {
     "name": "stdout",
     "output_type": "stream",
     "text": [
      "1.1234926399935683\n"
     ]
    }
   ],
   "source": [
    "## calculate the distance with the haversine formula\n",
    "\n",
    "coor1 = [5.666473, 51.985103]\n",
    "coor2 = [5.679490, 51.978954]\n",
    "lon1 = math.radians(coor1[0])\n",
    "lon2 = math.radians(coor2[0])\n",
    "lat1 = math.radians(coor1[1])\n",
    "lat2 = math.radians(coor2[1])\n",
    "dlon = lon2 - lon1 \n",
    "dlat = lat2 - lat1 \n",
    "a = math.sin(dlat/2)**2 + math.cos(lat1) * math.cos(lat2) * math.sin(dlon/2)**2\n",
    "c = 2 * math.asin(math.sqrt(a)) \n",
    "\n",
    "## Radius of earth in kilometers is 6371\n",
    "km = 6371* c\n",
    "print (km)"
   ]
  }
 ],
 "metadata": {
  "kernelspec": {
   "display_name": "Python 3",
   "language": "python",
   "name": "python3"
  },
  "language_info": {
   "codemirror_mode": {
    "name": "ipython",
    "version": 3
   },
   "file_extension": ".py",
   "mimetype": "text/x-python",
   "name": "python",
   "nbconvert_exporter": "python",
   "pygments_lexer": "ipython3",
   "version": "3.6.4"
  }
 },
 "nbformat": 4,
 "nbformat_minor": 2
}
